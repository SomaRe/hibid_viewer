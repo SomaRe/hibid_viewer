{
 "cells": [
  {
   "cell_type": "code",
   "execution_count": 11,
   "metadata": {},
   "outputs": [
    {
     "name": "stdout",
     "output_type": "stream",
     "text": [
      "dict_keys(['auction', 'lots'])\n",
      "3798\n"
     ]
    }
   ],
   "source": [
    "# read auctions\\Encore_Auctions_Inc_484231.json file\n",
    "\n",
    "import json\n",
    "\n",
    "with open('auctions\\Encore_Auctions_Inc_484231.json') as f:\n",
    "    data = json.load(f)\n",
    "\n",
    "print(data.keys())\n",
    "# from lots, get all the leads\n",
    "leads = []\n",
    "for lot in data['lots'].values():\n",
    "    leads.append(lot)\n",
    "\n",
    "print(len(leads))"
   ]
  },
  {
   "cell_type": "code",
   "execution_count": 12,
   "metadata": {},
   "outputs": [
    {
     "name": "stdout",
     "output_type": "stream",
     "text": [
      "170907574 FINAL SALE! IPAD AIR (5TH GENERATION) (DAMAGED 3554\n",
      "170907576 FINAL SALE! IPAD AIR 5TH GENERATION  (DAMAGED 3556\n",
      "171055948 FINAL SALE! IPAD AIR (5TH GENERATION)  (DAMAGED 3568\n",
      "171055958 FINAL SALE! IPAD AIR (5TH GENERATION) WITH 3578\n",
      "171055963 FINAL SALE! IPAD AIR (5TH GENERATION) (DAMAGED 3583\n"
     ]
    }
   ],
   "source": [
    "# find \"ipad air\" in leads and print the lead\n",
    "for lead in leads:\n",
    "    if \"ipad air\" in lead['lead'].lower():\n",
    "        print(lead['id'], lead['lead'], lead['lotNumber'])\n"
   ]
  },
  {
   "cell_type": "code",
   "execution_count": null,
   "metadata": {},
   "outputs": [],
   "source": []
  }
 ],
 "metadata": {
  "kernelspec": {
   "display_name": "Python 3",
   "language": "python",
   "name": "python3"
  },
  "language_info": {
   "codemirror_mode": {
    "name": "ipython",
    "version": 3
   },
   "file_extension": ".py",
   "mimetype": "text/x-python",
   "name": "python",
   "nbconvert_exporter": "python",
   "pygments_lexer": "ipython3",
   "version": "3.11.4"
  },
  "orig_nbformat": 4
 },
 "nbformat": 4,
 "nbformat_minor": 2
}
